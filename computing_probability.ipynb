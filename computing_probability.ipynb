{
 "cells": [
  {
   "cell_type": "code",
   "execution_count": null,
   "metadata": {},
   "outputs": [
    {
     "name": "stderr",
     "output_type": "stream",
     "text": [
      "c:\\Users\\Dell\\AppData\\Local\\Programs\\Python\\Python39\\lib\\site-packages\\tqdm\\auto.py:21: TqdmWarning: IProgress not found. Please update jupyter and ipywidgets. See https://ipywidgets.readthedocs.io/en/stable/user_install.html\n",
      "  from .autonotebook import tqdm as notebook_tqdm\n"
     ]
    }
   ],
   "source": [
    "from trankit import Pipeline # 1.1.0\n",
    "from transformers import AutoTokenizer #4.25.1 torch 1.7.1\n",
    "import pyphen #0.17.2\n",
    "from collections import defaultdict\n",
    "# python 3.9.12"
   ]
  },
  {
   "cell_type": "code",
   "execution_count": 13,
   "metadata": {},
   "outputs": [],
   "source": [
    "dic = pyphen.Pyphen(lang='sk_SK')"
   ]
  },
  {
   "cell_type": "code",
   "execution_count": 14,
   "metadata": {},
   "outputs": [
    {
     "data": {
      "text/plain": [
       "2"
      ]
     },
     "execution_count": 14,
     "metadata": {},
     "output_type": "execute_result"
    }
   ],
   "source": [
    "word='dvadsať'\n",
    "len(dic.inserted(word).split(\"-\"))"
   ]
  },
  {
   "cell_type": "code",
   "execution_count": 15,
   "metadata": {},
   "outputs": [
    {
     "data": {
      "text/plain": [
       "'dvad-sať'"
      ]
     },
     "execution_count": 15,
     "metadata": {},
     "output_type": "execute_result"
    }
   ],
   "source": [
    "dic.inserted(word)#.split(\"-\")"
   ]
  },
  {
   "cell_type": "code",
   "execution_count": 16,
   "metadata": {},
   "outputs": [
    {
     "name": "stdout",
     "output_type": "stream",
     "text": [
      "Loading pretrained XLM-Roberta, this may take a while...\n",
      "Loading tokenizer for slovak\n",
      "Loading tagger for slovak\n",
      "Loading lemmatizer for slovak\n",
      "==================================================\n",
      "Active language: slovak\n",
      "==================================================\n"
     ]
    }
   ],
   "source": [
    "p = Pipeline(lang='slovak', gpu=False)"
   ]
  },
  {
   "cell_type": "code",
   "execution_count": 17,
   "metadata": {},
   "outputs": [
    {
     "name": "stderr",
     "output_type": "stream",
     "text": [
      "c:\\Users\\Dell\\AppData\\Local\\Programs\\Python\\Python39\\lib\\site-packages\\huggingface_hub\\file_download.py:795: FutureWarning: `resume_download` is deprecated and will be removed in version 1.0.0. Downloads always resume when possible. If you want to force a new download, use `force_download=True`.\n",
      "  warnings.warn(\n"
     ]
    }
   ],
   "source": [
    "tokenizer = AutoTokenizer.from_pretrained(\"gerulata/slovakbert\")"
   ]
  },
  {
   "cell_type": "code",
   "execution_count": null,
   "metadata": {},
   "outputs": [],
   "source": [
    "# sentences='''Ivan bodaj by si mládil slamu ako tvoj otec.'''\n",
    "# p.posdep(sentences)\n",
    "# id: The token’s position in the sentence (1 means it's the first word).\n",
    "# text: The actual word (\"Ivan\").\n",
    "# upos: Universal Part of Speech tag (here, \"PROPN\", meaning proper noun).\n",
    "# xpos: Language-specific POS tag (here, \"SSms1:r\", possibly from a Slavic language tagging system).\n",
    "# feats: Morphological features:\n",
    "# Animacy=Anim → The noun is animate.\n",
    "# Case=Nom → The noun is in nominative case (subject form).\n",
    "# Gender=Masc → Masculine gender.\n",
    "# Number=Sing → Singular form.\n",
    "# head: The index of the word this token depends on (5 means it links to the 5th word in the sentence).\n",
    "# deprel: Dependency relation (here, \"nsubj\", meaning it is the nominal subject of the sentence).\n",
    "# dspan and span: Likely denote character positions in the original text (Ivan starts at 0 and ends at 4)."
   ]
  },
  {
   "cell_type": "code",
   "execution_count": 13,
   "metadata": {},
   "outputs": [],
   "source": [
    "a=tokenizer.tokenize('roztopený')"
   ]
  },
  {
   "cell_type": "code",
   "execution_count": 14,
   "metadata": {},
   "outputs": [
    {
     "data": {
      "text/plain": [
       "['roz', 'top', 'enÃ½']"
      ]
     },
     "execution_count": 14,
     "metadata": {},
     "output_type": "execute_result"
    }
   ],
   "source": [
    "a"
   ]
  },
  {
   "cell_type": "code",
   "execution_count": 2,
   "metadata": {},
   "outputs": [],
   "source": [
    "# sentences=''''''\n",
    "# p.posdep(sentences)"
   ]
  },
  {
   "cell_type": "code",
   "execution_count": 18,
   "metadata": {},
   "outputs": [],
   "source": [
    "from collections import Counter\n",
    "\n",
    "def compute_frequency_words(text):\n",
    "    words = text.lower().split() \n",
    "    word_freq = Counter(words)\n",
    "    return dict(word_freq)\n",
    "\n",
    "\n",
    "# print(compute_frequency_words('How are you doing ?'))\n",
    "\n",
    "# def compute_frequency_words(content):\n",
    "#     stats= len(content)\n",
    "#     return stats \n",
    "# compute_frequency_words(content)"
   ]
  },
  {
   "cell_type": "code",
   "execution_count": 19,
   "metadata": {},
   "outputs": [],
   "source": [
    "import re \n",
    "def preprocessing(sentences):\n",
    "    sentences = re.sub(r' {2,}', ' ', sentences)\n",
    "    sentences = re.sub(r'\\n{2,}', '\\n', sentences)\n",
    "    sentences = re.sub(r'.pdf', '\\n', sentences)\n",
    "    sentences =re.sub(r'xa0','',sentences)\n",
    "    sentences = re.sub(r'([_\\-/{}}])\\1+', '', sentences)\n",
    "    return sentences"
   ]
  },
  {
   "cell_type": "code",
   "execution_count": null,
   "metadata": {},
   "outputs": [],
   "source": [
    "# Source https://web.archive.org/web/20240713231039/http://arl6.library.sk/nlp4sk/help#pos_V\n",
    "### XPOS ###\n",
    "\n",
    "# ADJ: adjective\n",
    "# ADP: adposition\n",
    "# ADV: adverb\n",
    "# AUX: auxiliary\n",
    "# CCONJ: coordinating conjunction\n",
    "# DET: determiner\n",
    "# INTJ: interjection\n",
    "# NOUN: noun\n",
    "# NUM: numeral\n",
    "# PART: particle\n",
    "# PRON: pronoun\n",
    "# PROPN: proper noun\n",
    "# PUNCT: punctuation\n",
    "# SCONJ: subordinating conjunction\n",
    "# SYM: symbol\n",
    "# VERB: verb\n",
    "# X: other\n",
    "\n",
    "### UPOS ###\n",
    "\n",
    "# S\tPodstatné meno\n",
    "# A\tPrídavné meno \n",
    "# P\tZámeno\t\n",
    "# O\tSpojka\t\n",
    "# E\tPredložka\t\n",
    "# V\tSloveso\n",
    "\t\n",
    "# N\tČíslovka\t\n",
    "# G\tPríčastie\t\n",
    "# D\tPríslovka\t\n",
    "# T\tČastica\t\n",
    "# J\tCitoslovce\t\n",
    "# R\tReflexívum\t\n",
    "# Y\tKondicionálna morfém\n",
    "# W\tSkratka\t\n",
    "# Z\tInterpunkcia\n",
    "# 0\tČíslica\t\n",
    "    # functional=[]\n",
    "    # non_functional=[]"
   ]
  },
  {
   "cell_type": "code",
   "execution_count": null,
   "metadata": {},
   "outputs": [],
   "source": [
    "freq_content=compute_frequency_words(content)\n"
   ]
  },
  {
   "cell_type": "markdown",
   "metadata": {},
   "source": [
    "Ordering_text"
   ]
  },
  {
   "cell_type": "code",
   "execution_count": 29,
   "metadata": {},
   "outputs": [],
   "source": [
    "import json\n",
    "def complexity_word(word:str):\n",
    "    #tokenzation\n",
    "    tokens = tokenizer.tokenize(word)\n",
    "    #syllable\n",
    "    if len(word) == 1:\n",
    "        return 0, len(dic.inserted(word).split(\"-\"))\n",
    "    return len(word)/len(tokens), len(dic.inserted(word).split(\"-\"))\n",
    "\n",
    "\n",
    "def syntax_fun(sentence):\n",
    "    description=p.posdep(sentence)\n",
    "    keys_to_remove = ['id','dspan','span']\n",
    "    description = {k: v for k, v in description.items() if k not in keys_to_remove}\n",
    "    return description\n",
    "\n",
    "# pád; sin/pl; osoba; čas:(pritomný čas) \n",
    "def evaluation_pos_func(xpos,):\n",
    "        evaluation=0\n",
    "        if len(xpos) >=4:\n",
    "            if xpos[3] == 'p': # množné číslo\n",
    "                evaluation+=1\n",
    "        if len(xpos) >=5:\n",
    "            if xpos[4] not in ['1','4']: # nominatív a akuzatív\n",
    "                evaluation+=1\n",
    "        ### podstatne meno ###\n",
    "\n",
    "        ### pridavne meno ###\n",
    "        elif xpos[0] == 'A': \n",
    "            if xpos[5]  == 'y': # stupeň\n",
    "                evaluation+=1\n",
    "            if xpos[5] == 'z': # stupeň\n",
    "                evaluation+=2\n",
    "            evaluation+=1\n",
    "            return evaluation\n",
    "        \n",
    "        ### zámeno ###\n",
    "\n",
    "        ### číslovka ###\n",
    "\n",
    "        ### sloveso ###\n",
    "        elif xpos[0] == 'V': \n",
    "            if xpos[1] in ['M','B']: # forma slovesa\n",
    "                evaluation+=1\n",
    "            if xpos[1] in ['H','L']:# forma slovesa\n",
    "                evaluation+=2\n",
    "            evaluation+=1\n",
    "            return evaluation\n",
    "        \n",
    "        ### príčastie ###\n",
    "        elif xpos[0] == 'G': \n",
    "            if xpos[5]  == 'y': # stupeň\n",
    "                evaluation+=1\n",
    "            if xpos[5] == 'z': # stupeň\n",
    "                evaluation+=2\n",
    "            evaluation+=1\n",
    "            return evaluation\n",
    "        \n",
    "        ### prislovka ###\n",
    "        elif xpos[0] in 'D': \n",
    "            if xpos[1]  == 'y': # stupeň\n",
    "                evaluation+=1\n",
    "            if xpos[1] == 'z': # stupeň\n",
    "                evaluation+=2\n",
    "            evaluation+=1\n",
    "            return evaluation\n",
    "        \n",
    "        ### predlozka ###\n",
    "        elif xpos[0] in 'E': \n",
    "            if xpos[1] == 'u': # vokalizacia\n",
    "                evaluation+=1 \n",
    "            evaluation += 1\n",
    "            return evaluation\n",
    "\n",
    "        evaluation+=1\n",
    "        return evaluation\n",
    "\n",
    "\n",
    "# def evaluation_pos_non_func(xpos):\n",
    "#     return xpos\n",
    "\n",
    "def grammar_evaluation(upos,xpos):\n",
    "    if upos in ['PUNCT']:\n",
    "        return 0\n",
    "    if xpos in ['Y','W','X','Z']:\n",
    "        return 6\n",
    "    if xpos[0] in ['S','A','P','D','E','V','G','N']:\n",
    "        return evaluation_pos_func(xpos)\n",
    "    if xpos[0] in ['0','O','T','J','R','Y','W','Z']:\n",
    "        # return evaluation_pos_non_func(xpos)\n",
    "        return 1\n",
    "    else:\n",
    "        return 0\n",
    "         \n",
    "\n",
    "\n",
    "def info_from_words(description):\n",
    "    ev_gram=[]\n",
    "    ev_syll=[]\n",
    "    ev_rt=[]\n",
    "    \n",
    "    head=0\n",
    "    for token in description['tokens']:\n",
    "        ratio_token,len_sylabes=complexity_word(token['text'])\n",
    "        ev_syll.append(len_sylabes)\n",
    "        ev_rt.append(ratio_token)\n",
    "        ev_gram.append(grammar_evaluation(token['upos'],token['xpos']))\n",
    "        if head < token['head']:\n",
    "            head=token['head']\n",
    "\n",
    "    ev_ratio_token=sum(ev_rt)/len(ev_rt)\n",
    "    ev_len_sylab=sum(ev_syll)/len(ev_syll)\n",
    "    ev_gram_res=sum(ev_gram)/len(ev_gram)\n",
    "\n",
    "    return ev_gram_res,head,ev_len_sylab,ev_ratio_token\n",
    "\n",
    "# def compute_entropy(sentence):\n",
    "#     for word in \n",
    "#     return -sum((count / len(content)) * math.log2(count / len(content)) for count in freq_content.values())\n",
    "\n",
    "\n",
    "def average_evaluation(dict_list):\n",
    "    result = defaultdict(lambda: defaultdict(float))\n",
    "    count = len(dict_list)\n",
    "    for d in dict_list:\n",
    "        for category, metrics in d.items():\n",
    "            for key, value in metrics.items():\n",
    "                result[category][key] += value\n",
    "\n",
    "    # Compute the average\n",
    "    for category, metrics in result.items():\n",
    "        for key in metrics:\n",
    "            result[category][key] /= count\n",
    "\n",
    "    return dict(result)\n",
    "\n",
    "\n",
    "\n",
    "\n",
    "def sentence_analysis(sentence):\n",
    "    saved_sentences=[]\n",
    "    description=syntax_fun(sentence)\n",
    "    for s in description['sentences']:\n",
    "        if len(s['text']) < 4:\n",
    "            continue\n",
    "        evaluation={}\n",
    "        ev_gram,head,len_sylabes,ratio_token=info_from_words(s)\n",
    "        evaluation['complexity']={'TTR':ratio_token}\n",
    "        evaluation['syntax']={'head':head,'POS_ev':ev_gram,'syl':len_sylabes,'len_w':len(s['tokens'])}\n",
    "        saved_sentences.append(evaluation)\n",
    "\n",
    "    return saved_sentences\n",
    "\n",
    "def computing_fre(sentences_eval):\n",
    "    sum_syl = 0\n",
    "    sum_len_w = 0\n",
    "    for ev_s in sentences_eval:\n",
    "        syntax = ev_s.get(\"syntax\", {})  \n",
    "        sum_syl += syntax.get(\"syl\", 0)  \n",
    "        sum_len_w += syntax.get(\"len_w\", 0)\n",
    "\n",
    "    return 206.835 - (1.015 * sum_len_w) - (84.6 * (sum_syl / sum_len_w))\n",
    "\n",
    "\n",
    "\n",
    "\n",
    "        "
   ]
  },
  {
   "cell_type": "code",
   "execution_count": null,
   "metadata": {},
   "outputs": [],
   "source": [
    "path=''\n",
    "with open(path, \"r\", encoding=\"utf8\") as file:\n",
    "    data = json.load(file)\n",
    "    for sentences in data:\n",
    "        sentences=preprocessing(sentences['page'])\n",
    "        if len(sentences)<2:\n",
    "            continue\n",
    "        sentences_eval=sentence_analysis(sentences)\n",
    "        fre=computing_fre(sentences_eval)\n",
    "        part_eval=average_evaluation(sentences_eval)\n"
   ]
  },
  {
   "cell_type": "markdown",
   "metadata": {},
   "source": [
    "Masking"
   ]
  },
  {
   "cell_type": "code",
   "execution_count": 25,
   "metadata": {},
   "outputs": [],
   "source": [
    "import random\n",
    "def evaluation_pos_func_mask(xpos):\n",
    "        evaluation=0\n",
    "        if len(xpos) >=4:\n",
    "            if xpos[3] == 'p': # množné číslo\n",
    "                evaluation+=1\n",
    "        if len(xpos) >=5:\n",
    "            if xpos[4] not in ['1','4']: # nominatív a akuzatív\n",
    "                evaluation+=1\n",
    "        ### podstatne meno ###\n",
    "\n",
    "        ### pridavne meno ###\n",
    "        elif xpos[0] == 'A': \n",
    "            if xpos[5]  == 'y': # stupeň\n",
    "                evaluation+=1\n",
    "            if xpos[5] == 'z': # stupeň\n",
    "                evaluation+=2\n",
    "            evaluation+=1\n",
    "            return evaluation\n",
    "        \n",
    "        ### zámeno ###\n",
    "\n",
    "        ### číslovka ###\n",
    "\n",
    "        ### sloveso ###\n",
    "        elif xpos[0] == 'V': \n",
    "            if xpos[1] in ['M','B']: # forma slovesa\n",
    "                evaluation+=1\n",
    "            if xpos[1] in ['H','L']:# forma slovesa\n",
    "                evaluation+=2\n",
    "            evaluation+=1\n",
    "            return evaluation\n",
    "        \n",
    "        ### príčastie ###\n",
    "        elif xpos[0] == 'G': \n",
    "            if xpos[5]  == 'y': # stupeň\n",
    "                evaluation+=1\n",
    "            if xpos[5] == 'z': # stupeň\n",
    "                evaluation+=2\n",
    "            evaluation+=1\n",
    "            return evaluation\n",
    "        \n",
    "        ### prislovka ###\n",
    "        elif xpos[0] in 'D': \n",
    "            if xpos[1]  == 'y': # stupeň\n",
    "                evaluation+=1\n",
    "            if xpos[1] == 'z': # stupeň\n",
    "                evaluation+=2\n",
    "            evaluation+=1\n",
    "            return evaluation\n",
    "        \n",
    "        ### predlozka ###\n",
    "        elif xpos[0] in 'E': \n",
    "            if xpos[1] == 'u': # vokalizacia\n",
    "                evaluation+=1 \n",
    "            evaluation += 1\n",
    "            return evaluation\n",
    "\n",
    "        evaluation+=1\n",
    "        return evaluation\n",
    "\n",
    "def grammar_evaluation_mask(upos,xpos):\n",
    "    if upos in ['PUNCT']:\n",
    "        return 0\n",
    "    if xpos in ['Y','W','X','Z']:\n",
    "        return 6\n",
    "    if xpos[0] in ['S','A','P','D','E','V','G','N']:\n",
    "        return evaluation_pos_func_mask(xpos)\n",
    "    if xpos[0] in ['0','O','T','J','R','Y','W','Z']:\n",
    "        # return evaluation_pos_non_func(xpos)\n",
    "        return 1\n",
    "    else:\n",
    "        return 0\n",
    "    \n",
    "def syntax_fun_mask(sentence):\n",
    "    description=p.posdep(sentence)\n",
    "    keys_to_remove = ['id','dspan','span']\n",
    "    description = {k: v for k, v in description.items() if k not in keys_to_remove}\n",
    "    return description\n",
    "    \n",
    "def select_mask(evaluation_list):\n",
    "    max_value = max(evaluation_list)\n",
    "    indices = [i for i, val in enumerate(evaluation_list) if val == max_value]\n",
    "    mask_id=random.choice(indices)\n",
    "    return mask_id\n",
    "\n",
    "\n",
    "\n",
    "def evaluation_pos_mask(text):\n",
    "    evaluation_list=[]\n",
    "    description=syntax_fun_mask(text)\n",
    "    for s in description['sentences']:\n",
    "        for token in s['tokens']:\n",
    "            evaluation=grammar_evaluation_mask(token['upos'],token['xpos'])\n",
    "            evaluation_list.append(evaluation)\n",
    "    mask_id=select_mask(evaluation_list)\n",
    "    return mask_id\n",
    "\n",
    "\n",
    "    \n",
    "text=\"Rád sa hram a je to zábava pretože, ked budem dospelý už sa hrať nebudem.\"\n",
    "masked_text=''\n",
    "words = text.split()\n",
    "for index,number in enumerate(range(0, len(words), 7)):\n",
    "    chunk = words[number:number+7] \n",
    "    if len(chunk) == 7: \n",
    "        mask_id= evaluation_pos_mask(\" \".join(chunk))\n",
    "        chunk[mask_id]='[MASK]'\n",
    "    masked_text+=f' {\" \".join(chunk)}'"
   ]
  }
 ],
 "metadata": {
  "kernelspec": {
   "display_name": "Python 3",
   "language": "python",
   "name": "python3"
  },
  "language_info": {
   "codemirror_mode": {
    "name": "ipython",
    "version": 3
   },
   "file_extension": ".py",
   "mimetype": "text/x-python",
   "name": "python",
   "nbconvert_exporter": "python",
   "pygments_lexer": "ipython3",
   "version": "3.9.12"
  }
 },
 "nbformat": 4,
 "nbformat_minor": 2
}
